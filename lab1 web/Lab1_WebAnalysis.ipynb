{
 "cells": [
  {
   "cell_type": "code",
   "execution_count": 9,
   "id": "c489eafd-afba-4f4c-921b-dd895a732d66",
   "metadata": {},
   "outputs": [],
   "source": [
    "import pandas as pd\n",
    "import re\n",
    "from collections import Counter\n",
    "import matplotlib.pyplot as plt\n",
    "from datetime import datetime\n",
    "import geoip2.database"
   ]
  },
  {
   "cell_type": "code",
   "execution_count": 2,
   "id": "d3686b92-4e83-4f7a-963b-aca7912c3521",
   "metadata": {},
   "outputs": [],
   "source": [
    "# Парсинг лог-файлу\n",
    "def parse_log_line(line):\n",
    "    pattern = re.compile(\n",
    "        r'(?P<ip>\\S+) - - \\[(?P<datetime>[^\\]]+)\\] \"(?P<method>\\S+) (?P<url>\\S+) (?P<protocol>\\S+)\" '\n",
    "        r'(?P<status>\\d+) (?P<length>\\d+) \"(?P<referrer>[^\"]*)\" \"(?P<user_agent>[^\"]*)\"'\n",
    "    )\n",
    "    match = pattern.match(line)\n",
    "    if match:\n",
    "        return match.groupdict()\n",
    "    return None\n",
    "\n",
    "log_file = 'access.log'\n",
    "data = []\n"
   ]
  },
  {
   "cell_type": "code",
   "execution_count": 3,
   "id": "8c5b30ba-c3a8-471d-8bf5-7c7ff977f549",
   "metadata": {},
   "outputs": [],
   "source": [
    "with open(log_file) as file:\n",
    "    for line in file:\n",
    "        parsed_line = parse_log_line(line)\n",
    "        if parsed_line:\n",
    "            parsed_line['datetime'] = datetime.strptime(parsed_line['datetime'], '%d/%b/%Y:%H:%M:%S %z')\n",
    "            data.append(parsed_line)\n",
    "\n",
    "df = pd.DataFrame(data)\n",
    "\n",
    "df['date'] = df['datetime'].dt.date\n",
    "df['time'] = df['datetime'].dt.time\n",
    "df['user_agent'] = df['user_agent'].str.lower()\n"
   ]
  },
  {
   "cell_type": "code",
   "execution_count": 4,
   "id": "0ea4bc85-33c2-4871-b5fc-1fd3a94198c8",
   "metadata": {},
   "outputs": [],
   "source": [
    "\n",
    "def get_os(user_agent):\n",
    "    if 'windows' in user_agent:\n",
    "        return 'Windows'\n",
    "    elif 'macintosh' in user_agent or 'mac os' in user_agent:\n",
    "        return 'Mac OS'\n",
    "    elif 'linux' in user_agent:\n",
    "        return 'Linux'\n",
    "    elif 'android' in user_agent:\n",
    "        return 'Android'\n",
    "    elif 'iphone' in user_agent or 'ipad' in user_agent:\n",
    "        return 'iOS'\n",
    "    else:\n",
    "        return 'Other'\n",
    "\n",
    "df['os'] = df['user_agent'].apply(get_os)"
   ]
  },
  {
   "cell_type": "code",
   "execution_count": 5,
   "id": "5588ae8b-e3f7-417a-9704-0b3716bc4ef9",
   "metadata": {},
   "outputs": [
    {
     "name": "stdout",
     "output_type": "stream",
     "text": [
      "date\n",
      "2015-05-17    325\n",
      "2015-05-18    584\n",
      "2015-05-19    526\n",
      "2015-05-20    478\n",
      "Name: ip, dtype: int64\n"
     ]
    }
   ],
   "source": [
    "users_per_day = df.groupby('date')['ip'].nunique()\n",
    "print(users_per_day)"
   ]
  },
  {
   "cell_type": "code",
   "execution_count": 6,
   "id": "9c274a41-fa89-4acb-a1c1-4715b22f3f2d",
   "metadata": {},
   "outputs": [
    {
     "name": "stdout",
     "output_type": "stream",
     "text": [
      "user_agent\n",
      "mozilla/5.0 (windows nt 6.1; wow64) applewebkit/537.36 (khtml, like gecko) chrome/32.0.1700.107 safari/537.36              866\n",
      "universalfeedparser/4.2-pre-314-svn +http://feedparser.org/                                                                364\n",
      "mozilla/5.0 (macintosh; intel mac os x 10_9_1) applewebkit/537.36 (khtml, like gecko) chrome/33.0.1750.91 safari/537.36    305\n",
      "mozilla/5.0 (windows nt 6.1; wow64; rv:27.0) gecko/20100101 firefox/27.0                                                   295\n",
      "mozilla/5.0 (x11; linux x86_64) applewebkit/537.36 (khtml, like gecko) chrome/32.0.1700.107 safari/537.36                  267\n",
      "                                                                                                                          ... \n",
      "mozilla/4.0 (compatible; msie 6.0; windows nt 5.1; sv1; http://www.tropicdesigns.net)                                        1\n",
      "mozilla/5.0 (compatible; googlebot/2.1;+http://www.google.com/bot.html)                                                      1\n",
      "instagram 3.0.4 android (8/2.2.1; 240dpi; 480x800; htc/verizon_wwe; adr6400l; mecha; mecha; en_us)                           1\n",
      "mozilla/5.0 (windows nt 5.1; rv:5.0.1) gecko/20100101 firefox/5.0.1                                                          1\n",
      "mozilla/5.0 (windows; u; windows nt 5.1; en-us; rv:1.8.1.1pre) gecko/20061122 bonecho/2.0.0.1pre                             1\n",
      "Name: count, Length: 542, dtype: int64\n"
     ]
    }
   ],
   "source": [
    "user_agent_rank = df['user_agent'].value_counts()\n",
    "print(user_agent_rank)"
   ]
  },
  {
   "cell_type": "code",
   "execution_count": 7,
   "id": "73867b18-23af-495b-8abb-a0e4077f7686",
   "metadata": {},
   "outputs": [
    {
     "name": "stdout",
     "output_type": "stream",
     "text": [
      "os\n",
      "Windows    3047\n",
      "Other      2296\n",
      "Linux      2257\n",
      "Mac OS     1697\n",
      "Android      27\n",
      "iOS           6\n",
      "Name: count, dtype: int64\n"
     ]
    }
   ],
   "source": [
    "os_rank = df['os'].value_counts()\n",
    "print(os_rank)"
   ]
  },
  {
   "cell_type": "code",
   "execution_count": 10,
   "id": "6e72ba17-5842-42e3-872b-ff8252caffb3",
   "metadata": {},
   "outputs": [
    {
     "name": "stdout",
     "output_type": "stream",
     "text": [
      "country\n",
      "United States          3583\n",
      "France                  855\n",
      "Germany                 546\n",
      "India                   413\n",
      "Sweden                  364\n",
      "                       ... \n",
      "Oman                      1\n",
      "Kuwait                    1\n",
      "Trinidad and Tobago       1\n",
      "Azerbaijan                1\n",
      "Ghana                     1\n",
      "Name: count, Length: 96, dtype: int64\n"
     ]
    }
   ],
   "source": [
    "reader = geoip2.database.Reader('GeoLite2-City.mmdb')\n",
    "def get_country(ip):\n",
    "    try:\n",
    "        response = reader.city(ip)\n",
    "        return response.country.name\n",
    "    except:\n",
    "        return 'Unknown'\n",
    "\n",
    "df['country'] = df['ip'].apply(get_country)\n",
    "country_rank = df['country'].value_counts()\n",
    "print(country_rank)"
   ]
  },
  {
   "cell_type": "code",
   "execution_count": 11,
   "id": "c58dc7d8-ff34-41c4-95e2-7257ad294d5e",
   "metadata": {},
   "outputs": [
    {
     "name": "stdout",
     "output_type": "stream",
     "text": [
      "                   ip                  datetime method  \\\n",
      "30      66.249.73.135 2015-05-17 10:05:40+00:00    GET   \n",
      "32      66.249.73.185 2015-05-17 10:05:37+00:00    GET   \n",
      "39      123.125.71.35 2015-05-17 10:05:46+00:00    GET   \n",
      "42    207.241.237.225 2015-05-17 10:05:58+00:00    GET   \n",
      "47      66.249.73.185 2015-05-17 10:05:00+00:00    GET   \n",
      "...               ...                       ...    ...   \n",
      "9271       5.10.83.21 2015-05-20 21:05:36+00:00    GET   \n",
      "9273    66.249.73.135 2015-05-20 21:05:18+00:00    GET   \n",
      "9321    66.249.73.135 2015-05-20 21:05:11+00:00    GET   \n",
      "9325    100.43.83.137 2015-05-20 21:05:01+00:00    GET   \n",
      "9328    66.249.73.135 2015-05-20 21:05:00+00:00    GET   \n",
      "\n",
      "                                           url  protocol status length  \\\n",
      "30                             /blog/tags/ipv6  HTTP/1.1    200  12251   \n",
      "32                                           /  HTTP/1.1    200  37932   \n",
      "39                          /blog/tags/release  HTTP/1.1    200  40693   \n",
      "42                         /blog/tags/examples  HTTP/1.0    200   9208   \n",
      "47                                  /reset.css  HTTP/1.1    200   1015   \n",
      "...                                        ...       ...    ...    ...   \n",
      "9271  /files/blogposts/20070826/test_new_re.rb  HTTP/1.1    200   1293   \n",
      "9273                            /blog/tags/zsh  HTTP/1.1    200  16958   \n",
      "9321                     /blog/tags/xsendevent  HTTP/1.1    200  10049   \n",
      "9325                      /blog/tags/standards  HTTP/1.1    200  13358   \n",
      "9328                               /?flav=atom  HTTP/1.1    200  32352   \n",
      "\n",
      "                                     referrer  \\\n",
      "30                                          -   \n",
      "32                                          -   \n",
      "39                                          -   \n",
      "42    http://www.semicomplete.com/blog/tags/C   \n",
      "47                                          -   \n",
      "...                                       ...   \n",
      "9271                                        -   \n",
      "9273                                        -   \n",
      "9321                                        -   \n",
      "9325                                        -   \n",
      "9328                                        -   \n",
      "\n",
      "                                             user_agent        date      time  \\\n",
      "30    mozilla/5.0 (iphone; cpu iphone os 6_0 like ma...  2015-05-17  10:05:40   \n",
      "32    mozilla/5.0 (compatible; googlebot/2.1; +http:...  2015-05-17  10:05:37   \n",
      "39    mozilla/5.0 (compatible; baiduspider/2.0; +htt...  2015-05-17  10:05:46   \n",
      "42    mozilla/5.0 (compatible; archive.org_bot +http...  2015-05-17  10:05:58   \n",
      "47    mozilla/5.0 (compatible; googlebot/2.1; +http:...  2015-05-17  10:05:00   \n",
      "...                                                 ...         ...       ...   \n",
      "9271  mozilla/5.0 (compatible; ahrefsbot/5.0; +http:...  2015-05-20  21:05:36   \n",
      "9273  mozilla/5.0 (iphone; cpu iphone os 6_0 like ma...  2015-05-20  21:05:18   \n",
      "9321  mozilla/5.0 (iphone; cpu iphone os 6_0 like ma...  2015-05-20  21:05:11   \n",
      "9325  mozilla/5.0 (compatible; yandexbot/3.0; +http:...  2015-05-20  21:05:01   \n",
      "9328  mozilla/5.0 (compatible; googlebot/2.1; +http:...  2015-05-20  21:05:00   \n",
      "\n",
      "          os          country  \n",
      "30    Mac OS    United States  \n",
      "32     Other    United States  \n",
      "39     Other            China  \n",
      "42     Other    United States  \n",
      "47     Other    United States  \n",
      "...      ...              ...  \n",
      "9271   Other  The Netherlands  \n",
      "9273  Mac OS    United States  \n",
      "9321  Mac OS    United States  \n",
      "9325   Other           Serbia  \n",
      "9328   Other    United States  \n",
      "\n",
      "[1087 rows x 13 columns]\n"
     ]
    }
   ],
   "source": [
    "bots = df[df['user_agent'].str.contains('bot|spider|crawl', regex=True)]\n",
    "print(bots)"
   ]
  },
  {
   "cell_type": "code",
   "execution_count": 12,
   "id": "29cf79ce-a5ff-43e2-b923-2f88038694d7",
   "metadata": {},
   "outputs": [
    {
     "name": "stdout",
     "output_type": "stream",
     "text": [
      "ip\n",
      "108.171.116.194     65\n",
      "130.237.218.86     293\n",
      "198.46.149.143      82\n",
      "208.115.111.72      73\n",
      "208.115.113.88      66\n",
      "208.91.156.11       60\n",
      "209.85.238.199     102\n",
      "46.105.14.53       364\n",
      "50.16.19.13        113\n",
      "65.55.213.73        59\n",
      "66.249.73.135      432\n",
      "68.180.224.225      95\n",
      "75.97.9.59          99\n",
      "dtype: int64\n"
     ]
    }
   ],
   "source": [
    "# Детектування аномалій (наприклад, велика кількість запитів з одного ІР за короткий період)\n",
    "ip_request_counts = df.groupby('ip').size()\n",
    "anomalies = ip_request_counts[ip_request_counts > ip_request_counts.mean() + 3 * ip_request_counts.std()]\n",
    "print(anomalies)"
   ]
  },
  {
   "cell_type": "code",
   "execution_count": 14,
   "id": "67418ca9-b173-49b8-944c-2acbfb105b4d",
   "metadata": {},
   "outputs": [
    {
     "data": {
      "image/png": "[encoded data removed]",
      "text/plain": [
       "<Figure size 1000x600 with 1 Axes>"
      ]
     },
     "metadata": {},
     "output_type": "display_data"
    }
   ],
   "source": [
    "plt.figure(figsize=(10, 6))\n",
    "anomalies.plot(kind='bar')\n",
    "plt.title('Anomalies: IPs with Unusually High Number of Requests')\n",
    "plt.xlabel('IP Address')\n",
    "plt.ylabel('Number of Requests')\n",
    "plt.show()"
   ]
  }
 ],
 "metadata": {
  "kernelspec": {
   "display_name": "Python 3 (ipykernel)",
   "language": "python",
   "name": "python3"
  },
  "language_info": {
   "codemirror_mode": {
    "name": "ipython",
    "version": 3
   },
   "file_extension": ".py",
   "mimetype": "text/x-python",
   "name": "python",
   "nbconvert_exporter": "python",
   "pygments_lexer": "ipython3",
   "version": "3.11.5"
  }
 },
 "nbformat": 4,
 "nbformat_minor": 5
}
